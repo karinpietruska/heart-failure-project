{
 "cells": [
  {
   "cell_type": "markdown",
   "metadata": {},
   "source": [
    "# Prediction of Fatal Heart Failure Incidents\n"
   ]
  },
  {
   "cell_type": "markdown",
   "metadata": {},
   "source": [
    "See eda notebook for exploratory data analysis and description of question at hand. \n",
    "Data can be downloaded at Kaggle:\n",
    "https://www.kaggle.com/andrewmvd/heart-failure-clinical-data\n",
    "\n",
    "\n",
    "Thanks to the authors of the following paper for making the dataset available on kaggle:\n",
    "Davide Chicco, Giuseppe Jurman: Machine learning can predict survival of patients with heart failure from serum creatinine and ejection fraction alone. BMC Medical Informatics and Decision Making 20, 16 (2020). "
   ]
  },
  {
   "cell_type": "code",
   "execution_count": null,
   "metadata": {},
   "outputs": [],
   "source": [
    "#Info on author of this notebook\n",
    "__author__ = \"Karin Pietruska\"\n",
    "__email__ = \"karin.pietruska@gmail.com\""
   ]
  },
  {
   "cell_type": "markdown",
   "metadata": {},
   "source": [
    "## - Part 5 - Model Development and Evaluation"
   ]
  },
  {
   "cell_type": "code",
   "execution_count": 1,
   "metadata": {},
   "outputs": [],
   "source": [
    "# import libraries \n",
    "import pandas as pd\n",
    "import numpy as np\n",
    "import sklearn as sk\n",
    "import matplotlib.pyplot as plt\n",
    "import seaborn as sns\n",
    "\n",
    "from sklearn.model_selection import train_test_split\n",
    "from sklearn.preprocessing import StandardScaler\n",
    "from sklearn.preprocessing import MinMaxScaler\n",
    "from sklearn.utils import shuffle\n",
    "\n",
    "from sklearn.linear_model import LogisticRegression\n",
    "from sklearn import metrics\n",
    "from sklearn.metrics import confusion_matrix\n",
    "from sklearn.metrics import roc_curve, auc\n",
    "from sklearn.pipeline import Pipeline\n",
    "from sklearn.ensemble import RandomForestClassifier\n",
    "from sklearn.model_selection import GridSearchCV\n",
    "from sklearn.metrics import accuracy_score, recall_score, precision_score, f1_score\n",
    "from sklearn.metrics import plot_roc_curve"
   ]
  },
  {
   "cell_type": "markdown",
   "metadata": {},
   "source": [
    "### Load Data"
   ]
  },
  {
   "cell_type": "code",
   "execution_count": 2,
   "metadata": {},
   "outputs": [],
   "source": [
    "path = \"data/\"\n",
    "filename = \"heart_failure_clinical_records_dataset.csv\"\n",
    "df_hrdata = pd.read_csv(path + filename)"
   ]
  },
  {
   "cell_type": "code",
   "execution_count": 3,
   "metadata": {},
   "outputs": [
    {
     "name": "stdout",
     "output_type": "stream",
     "text": [
      "['age', 'anaemia', 'creatinine_phosphokinase', 'diabetes', 'ejection_fraction', 'high_blood_pressure', 'platelets', 'serum_creatinine', 'serum_sodium', 'sex', 'smoking', 'time']\n"
     ]
    }
   ],
   "source": [
    "# identify categorical features, continuous features and target variable\n",
    "cat_features = [\"anaemia\",\"diabetes\",\"high_blood_pressure\",\"sex\",\"smoking\"]\n",
    "con_features = [\"age\",\"creatinine_phosphokinase\",\"ejection_fraction\",\"platelets\",\"serum_creatinine\",\"serum_sodium\",\"time\"]\n",
    "all_features = df_hrdata.columns[df_hrdata.columns != \"DEATH_EVENT\"].tolist()\n",
    "target = \"DEATH_EVENT\"\n",
    "print(all_features)"
   ]
  },
  {
   "cell_type": "code",
   "execution_count": 4,
   "metadata": {},
   "outputs": [
    {
     "name": "stdout",
     "output_type": "stream",
     "text": [
      "<class 'pandas.core.frame.DataFrame'>\n",
      "RangeIndex: 299 entries, 0 to 298\n",
      "Data columns (total 13 columns):\n",
      " #   Column                    Non-Null Count  Dtype  \n",
      "---  ------                    --------------  -----  \n",
      " 0   age                       299 non-null    float64\n",
      " 1   anaemia                   299 non-null    bool   \n",
      " 2   creatinine_phosphokinase  299 non-null    int64  \n",
      " 3   diabetes                  299 non-null    bool   \n",
      " 4   ejection_fraction         299 non-null    int64  \n",
      " 5   high_blood_pressure       299 non-null    bool   \n",
      " 6   platelets                 299 non-null    float64\n",
      " 7   serum_creatinine          299 non-null    float64\n",
      " 8   serum_sodium              299 non-null    int64  \n",
      " 9   sex                       299 non-null    bool   \n",
      " 10  smoking                   299 non-null    bool   \n",
      " 11  time                      299 non-null    int64  \n",
      " 12  DEATH_EVENT               299 non-null    bool   \n",
      "dtypes: bool(6), float64(3), int64(4)\n",
      "memory usage: 18.2 KB\n"
     ]
    }
   ],
   "source": [
    "# convert the int64 data types of categorical variables to boolean\n",
    "target_list=[target]\n",
    "df_hrdata[cat_features + target_list] = df_hrdata[cat_features + target_list].astype(bool)\n",
    "df_hrdata.info()"
   ]
  },
  {
   "cell_type": "markdown",
   "metadata": {},
   "source": [
    "### Preprocess Data for Model Development"
   ]
  },
  {
   "cell_type": "code",
   "execution_count": 5,
   "metadata": {},
   "outputs": [],
   "source": [
    "def standardize_data(df, numerical_vars):\n",
    "    \"\"\" standardize numerical columens with z-score method of StandardScaler\"\"\"\n",
    "    std_scaler = StandardScaler()\n",
    "    std_scaler\n",
    "    df[numerical_vars] = pd.DataFrame(std_scaler.fit_transform(df[numerical_vars]))\n",
    "    \n",
    "\n",
    "def normalize_data_minmax(df, numerical_vars):\n",
    "    \"\"\" standardize numerical columens with z-score method of StandardScaler\"\"\"\n",
    "    minmax_scaler = MinMaxScaler()\n",
    "    minmax_scaler\n",
    "    df[numerical_vars] = pd.DataFrame(minmax_scaler.fit_transform(df[numerical_vars]))"
   ]
  },
  {
   "cell_type": "code",
   "execution_count": 6,
   "metadata": {},
   "outputs": [
    {
     "data": {
      "text/html": [
       "<div>\n",
       "<style scoped>\n",
       "    .dataframe tbody tr th:only-of-type {\n",
       "        vertical-align: middle;\n",
       "    }\n",
       "\n",
       "    .dataframe tbody tr th {\n",
       "        vertical-align: top;\n",
       "    }\n",
       "\n",
       "    .dataframe thead th {\n",
       "        text-align: right;\n",
       "    }\n",
       "</style>\n",
       "<table border=\"1\" class=\"dataframe\">\n",
       "  <thead>\n",
       "    <tr style=\"text-align: right;\">\n",
       "      <th></th>\n",
       "      <th>age</th>\n",
       "      <th>anaemia</th>\n",
       "      <th>creatinine_phosphokinase</th>\n",
       "      <th>diabetes</th>\n",
       "      <th>ejection_fraction</th>\n",
       "      <th>high_blood_pressure</th>\n",
       "      <th>platelets</th>\n",
       "      <th>serum_creatinine</th>\n",
       "      <th>serum_sodium</th>\n",
       "      <th>sex</th>\n",
       "      <th>smoking</th>\n",
       "      <th>time</th>\n",
       "      <th>DEATH_EVENT</th>\n",
       "    </tr>\n",
       "  </thead>\n",
       "  <tbody>\n",
       "    <tr>\n",
       "      <th>0</th>\n",
       "      <td>1.192945</td>\n",
       "      <td>False</td>\n",
       "      <td>0.000166</td>\n",
       "      <td>False</td>\n",
       "      <td>-1.530560</td>\n",
       "      <td>True</td>\n",
       "      <td>1.681648e-02</td>\n",
       "      <td>0.490057</td>\n",
       "      <td>-1.504036</td>\n",
       "      <td>True</td>\n",
       "      <td>False</td>\n",
       "      <td>-1.629502</td>\n",
       "      <td>True</td>\n",
       "    </tr>\n",
       "    <tr>\n",
       "      <th>1</th>\n",
       "      <td>-0.491279</td>\n",
       "      <td>False</td>\n",
       "      <td>7.514640</td>\n",
       "      <td>False</td>\n",
       "      <td>-0.007077</td>\n",
       "      <td>False</td>\n",
       "      <td>7.535660e-09</td>\n",
       "      <td>-0.284552</td>\n",
       "      <td>-0.141976</td>\n",
       "      <td>True</td>\n",
       "      <td>False</td>\n",
       "      <td>-1.603691</td>\n",
       "      <td>True</td>\n",
       "    </tr>\n",
       "    <tr>\n",
       "      <th>2</th>\n",
       "      <td>0.350833</td>\n",
       "      <td>False</td>\n",
       "      <td>-0.449939</td>\n",
       "      <td>False</td>\n",
       "      <td>-1.530560</td>\n",
       "      <td>False</td>\n",
       "      <td>-1.038073e+00</td>\n",
       "      <td>-0.090900</td>\n",
       "      <td>-1.731046</td>\n",
       "      <td>True</td>\n",
       "      <td>True</td>\n",
       "      <td>-1.590785</td>\n",
       "      <td>True</td>\n",
       "    </tr>\n",
       "    <tr>\n",
       "      <th>3</th>\n",
       "      <td>-0.912335</td>\n",
       "      <td>True</td>\n",
       "      <td>-0.486071</td>\n",
       "      <td>False</td>\n",
       "      <td>-1.530560</td>\n",
       "      <td>False</td>\n",
       "      <td>-5.464741e-01</td>\n",
       "      <td>0.490057</td>\n",
       "      <td>0.085034</td>\n",
       "      <td>True</td>\n",
       "      <td>False</td>\n",
       "      <td>-1.590785</td>\n",
       "      <td>True</td>\n",
       "    </tr>\n",
       "    <tr>\n",
       "      <th>4</th>\n",
       "      <td>0.350833</td>\n",
       "      <td>True</td>\n",
       "      <td>-0.435486</td>\n",
       "      <td>True</td>\n",
       "      <td>-1.530560</td>\n",
       "      <td>False</td>\n",
       "      <td>6.517986e-01</td>\n",
       "      <td>1.264666</td>\n",
       "      <td>-4.682176</td>\n",
       "      <td>False</td>\n",
       "      <td>False</td>\n",
       "      <td>-1.577879</td>\n",
       "      <td>True</td>\n",
       "    </tr>\n",
       "  </tbody>\n",
       "</table>\n",
       "</div>"
      ],
      "text/plain": [
       "        age  anaemia  creatinine_phosphokinase  diabetes  ejection_fraction  \\\n",
       "0  1.192945    False                  0.000166     False          -1.530560   \n",
       "1 -0.491279    False                  7.514640     False          -0.007077   \n",
       "2  0.350833    False                 -0.449939     False          -1.530560   \n",
       "3 -0.912335     True                 -0.486071     False          -1.530560   \n",
       "4  0.350833     True                 -0.435486      True          -1.530560   \n",
       "\n",
       "   high_blood_pressure     platelets  serum_creatinine  serum_sodium    sex  \\\n",
       "0                 True  1.681648e-02          0.490057     -1.504036   True   \n",
       "1                False  7.535660e-09         -0.284552     -0.141976   True   \n",
       "2                False -1.038073e+00         -0.090900     -1.731046   True   \n",
       "3                False -5.464741e-01          0.490057      0.085034   True   \n",
       "4                False  6.517986e-01          1.264666     -4.682176  False   \n",
       "\n",
       "   smoking      time  DEATH_EVENT  \n",
       "0    False -1.629502         True  \n",
       "1    False -1.603691         True  \n",
       "2     True -1.590785         True  \n",
       "3    False -1.590785         True  \n",
       "4    False -1.577879         True  "
      ]
     },
     "execution_count": 6,
     "metadata": {},
     "output_type": "execute_result"
    }
   ],
   "source": [
    "standardize_data(df_hrdata, con_features)\n",
    "df_hrdata.head()"
   ]
  },
  {
   "cell_type": "code",
   "execution_count": 7,
   "metadata": {},
   "outputs": [],
   "source": [
    "# divide data into train and test set (split 80 to 20%)\n",
    "train_df, test_df = train_test_split(df_hrdata, test_size=0.3, random_state = 13)"
   ]
  },
  {
   "cell_type": "code",
   "execution_count": 8,
   "metadata": {},
   "outputs": [
    {
     "data": {
      "text/html": [
       "<div>\n",
       "<style scoped>\n",
       "    .dataframe tbody tr th:only-of-type {\n",
       "        vertical-align: middle;\n",
       "    }\n",
       "\n",
       "    .dataframe tbody tr th {\n",
       "        vertical-align: top;\n",
       "    }\n",
       "\n",
       "    .dataframe thead th {\n",
       "        text-align: right;\n",
       "    }\n",
       "</style>\n",
       "<table border=\"1\" class=\"dataframe\">\n",
       "  <thead>\n",
       "    <tr style=\"text-align: right;\">\n",
       "      <th></th>\n",
       "      <th>age</th>\n",
       "      <th>anaemia</th>\n",
       "      <th>creatinine_phosphokinase</th>\n",
       "      <th>diabetes</th>\n",
       "      <th>ejection_fraction</th>\n",
       "      <th>high_blood_pressure</th>\n",
       "      <th>platelets</th>\n",
       "      <th>serum_creatinine</th>\n",
       "      <th>serum_sodium</th>\n",
       "      <th>sex</th>\n",
       "      <th>smoking</th>\n",
       "      <th>time</th>\n",
       "      <th>DEATH_EVENT</th>\n",
       "    </tr>\n",
       "  </thead>\n",
       "  <tbody>\n",
       "    <tr>\n",
       "      <th>17</th>\n",
       "      <td>-1.333392</td>\n",
       "      <td>False</td>\n",
       "      <td>0.000166</td>\n",
       "      <td>False</td>\n",
       "      <td>-2.038387</td>\n",
       "      <td>False</td>\n",
       "      <td>-9.971065e-01</td>\n",
       "      <td>-0.575031</td>\n",
       "      <td>-2.185066</td>\n",
       "      <td>True</td>\n",
       "      <td>False</td>\n",
       "      <td>-1.500444</td>\n",
       "      <td>True</td>\n",
       "    </tr>\n",
       "    <tr>\n",
       "      <th>157</th>\n",
       "      <td>-0.912335</td>\n",
       "      <td>False</td>\n",
       "      <td>-0.342574</td>\n",
       "      <td>False</td>\n",
       "      <td>-1.107370</td>\n",
       "      <td>False</td>\n",
       "      <td>-1.390846e-02</td>\n",
       "      <td>-0.381379</td>\n",
       "      <td>-0.141976</td>\n",
       "      <td>True</td>\n",
       "      <td>True</td>\n",
       "      <td>-0.132425</td>\n",
       "      <td>False</td>\n",
       "    </tr>\n",
       "    <tr>\n",
       "      <th>92</th>\n",
       "      <td>-1.586025</td>\n",
       "      <td>False</td>\n",
       "      <td>0.000166</td>\n",
       "      <td>False</td>\n",
       "      <td>1.854958</td>\n",
       "      <td>False</td>\n",
       "      <td>7.535660e-09</td>\n",
       "      <td>-0.207091</td>\n",
       "      <td>0.085034</td>\n",
       "      <td>False</td>\n",
       "      <td>False</td>\n",
       "      <td>-0.622847</td>\n",
       "      <td>False</td>\n",
       "    </tr>\n",
       "    <tr>\n",
       "      <th>142</th>\n",
       "      <td>-0.912335</td>\n",
       "      <td>False</td>\n",
       "      <td>-0.103069</td>\n",
       "      <td>True</td>\n",
       "      <td>-0.684180</td>\n",
       "      <td>False</td>\n",
       "      <td>6.722819e-01</td>\n",
       "      <td>-0.478205</td>\n",
       "      <td>-1.050016</td>\n",
       "      <td>False</td>\n",
       "      <td>False</td>\n",
       "      <td>-0.274389</td>\n",
       "      <td>False</td>\n",
       "    </tr>\n",
       "    <tr>\n",
       "      <th>218</th>\n",
       "      <td>0.603467</td>\n",
       "      <td>True</td>\n",
       "      <td>0.453367</td>\n",
       "      <td>True</td>\n",
       "      <td>-0.260991</td>\n",
       "      <td>False</td>\n",
       "      <td>7.826636e-02</td>\n",
       "      <td>-0.284552</td>\n",
       "      <td>-0.595996</td>\n",
       "      <td>True</td>\n",
       "      <td>False</td>\n",
       "      <td>0.861324</td>\n",
       "      <td>False</td>\n",
       "    </tr>\n",
       "  </tbody>\n",
       "</table>\n",
       "</div>"
      ],
      "text/plain": [
       "          age  anaemia  creatinine_phosphokinase  diabetes  ejection_fraction  \\\n",
       "17  -1.333392    False                  0.000166     False          -2.038387   \n",
       "157 -0.912335    False                 -0.342574     False          -1.107370   \n",
       "92  -1.586025    False                  0.000166     False           1.854958   \n",
       "142 -0.912335    False                 -0.103069      True          -0.684180   \n",
       "218  0.603467     True                  0.453367      True          -0.260991   \n",
       "\n",
       "     high_blood_pressure     platelets  serum_creatinine  serum_sodium    sex  \\\n",
       "17                 False -9.971065e-01         -0.575031     -2.185066   True   \n",
       "157                False -1.390846e-02         -0.381379     -0.141976   True   \n",
       "92                 False  7.535660e-09         -0.207091      0.085034  False   \n",
       "142                False  6.722819e-01         -0.478205     -1.050016  False   \n",
       "218                False  7.826636e-02         -0.284552     -0.595996   True   \n",
       "\n",
       "     smoking      time  DEATH_EVENT  \n",
       "17     False -1.500444         True  \n",
       "157     True -0.132425        False  \n",
       "92     False -0.622847        False  \n",
       "142    False -0.274389        False  \n",
       "218    False  0.861324        False  "
      ]
     },
     "execution_count": 8,
     "metadata": {},
     "output_type": "execute_result"
    }
   ],
   "source": [
    "train_df.head(5)"
   ]
  },
  {
   "cell_type": "code",
   "execution_count": 9,
   "metadata": {},
   "outputs": [
    {
     "data": {
      "text/plain": [
       "209"
      ]
     },
     "execution_count": 9,
     "metadata": {},
     "output_type": "execute_result"
    }
   ],
   "source": [
    "len(train_df)"
   ]
  },
  {
   "cell_type": "code",
   "execution_count": 10,
   "metadata": {},
   "outputs": [
    {
     "data": {
      "text/html": [
       "<div>\n",
       "<style scoped>\n",
       "    .dataframe tbody tr th:only-of-type {\n",
       "        vertical-align: middle;\n",
       "    }\n",
       "\n",
       "    .dataframe tbody tr th {\n",
       "        vertical-align: top;\n",
       "    }\n",
       "\n",
       "    .dataframe thead th {\n",
       "        text-align: right;\n",
       "    }\n",
       "</style>\n",
       "<table border=\"1\" class=\"dataframe\">\n",
       "  <thead>\n",
       "    <tr style=\"text-align: right;\">\n",
       "      <th></th>\n",
       "      <th>age</th>\n",
       "      <th>anaemia</th>\n",
       "      <th>creatinine_phosphokinase</th>\n",
       "      <th>diabetes</th>\n",
       "      <th>ejection_fraction</th>\n",
       "      <th>high_blood_pressure</th>\n",
       "      <th>platelets</th>\n",
       "      <th>serum_creatinine</th>\n",
       "      <th>serum_sodium</th>\n",
       "      <th>sex</th>\n",
       "      <th>smoking</th>\n",
       "      <th>time</th>\n",
       "      <th>DEATH_EVENT</th>\n",
       "    </tr>\n",
       "  </thead>\n",
       "  <tbody>\n",
       "    <tr>\n",
       "      <th>263</th>\n",
       "      <td>0.603467</td>\n",
       "      <td>True</td>\n",
       "      <td>-0.438583</td>\n",
       "      <td>True</td>\n",
       "      <td>1.854958</td>\n",
       "      <td>False</td>\n",
       "      <td>-5.669574e-01</td>\n",
       "      <td>-0.381379</td>\n",
       "      <td>0.766064</td>\n",
       "      <td>False</td>\n",
       "      <td>False</td>\n",
       "      <td>1.377558</td>\n",
       "      <td>False</td>\n",
       "    </tr>\n",
       "    <tr>\n",
       "      <th>118</th>\n",
       "      <td>0.350833</td>\n",
       "      <td>True</td>\n",
       "      <td>-0.484006</td>\n",
       "      <td>True</td>\n",
       "      <td>1.854958</td>\n",
       "      <td>True</td>\n",
       "      <td>-6.181656e-01</td>\n",
       "      <td>-0.478205</td>\n",
       "      <td>0.766064</td>\n",
       "      <td>False</td>\n",
       "      <td>False</td>\n",
       "      <td>-0.467977</td>\n",
       "      <td>False</td>\n",
       "    </tr>\n",
       "    <tr>\n",
       "      <th>197</th>\n",
       "      <td>0.350833</td>\n",
       "      <td>False</td>\n",
       "      <td>-0.428259</td>\n",
       "      <td>False</td>\n",
       "      <td>-0.684180</td>\n",
       "      <td>False</td>\n",
       "      <td>-4.463340e-02</td>\n",
       "      <td>-0.575031</td>\n",
       "      <td>0.312044</td>\n",
       "      <td>False</td>\n",
       "      <td>False</td>\n",
       "      <td>0.719360</td>\n",
       "      <td>False</td>\n",
       "    </tr>\n",
       "    <tr>\n",
       "      <th>80</th>\n",
       "      <td>0.771889</td>\n",
       "      <td>False</td>\n",
       "      <td>-0.529430</td>\n",
       "      <td>False</td>\n",
       "      <td>0.162199</td>\n",
       "      <td>False</td>\n",
       "      <td>3.035826e-01</td>\n",
       "      <td>0.296405</td>\n",
       "      <td>-0.141976</td>\n",
       "      <td>False</td>\n",
       "      <td>False</td>\n",
       "      <td>-0.713188</td>\n",
       "      <td>False</td>\n",
       "    </tr>\n",
       "    <tr>\n",
       "      <th>30</th>\n",
       "      <td>2.792959</td>\n",
       "      <td>False</td>\n",
       "      <td>0.000166</td>\n",
       "      <td>True</td>\n",
       "      <td>-0.007077</td>\n",
       "      <td>True</td>\n",
       "      <td>7.535660e-09</td>\n",
       "      <td>0.422279</td>\n",
       "      <td>-0.595996</td>\n",
       "      <td>True</td>\n",
       "      <td>False</td>\n",
       "      <td>-1.332668</td>\n",
       "      <td>True</td>\n",
       "    </tr>\n",
       "  </tbody>\n",
       "</table>\n",
       "</div>"
      ],
      "text/plain": [
       "          age  anaemia  creatinine_phosphokinase  diabetes  ejection_fraction  \\\n",
       "263  0.603467     True                 -0.438583      True           1.854958   \n",
       "118  0.350833     True                 -0.484006      True           1.854958   \n",
       "197  0.350833    False                 -0.428259     False          -0.684180   \n",
       "80   0.771889    False                 -0.529430     False           0.162199   \n",
       "30   2.792959    False                  0.000166      True          -0.007077   \n",
       "\n",
       "     high_blood_pressure     platelets  serum_creatinine  serum_sodium    sex  \\\n",
       "263                False -5.669574e-01         -0.381379      0.766064  False   \n",
       "118                 True -6.181656e-01         -0.478205      0.766064  False   \n",
       "197                False -4.463340e-02         -0.575031      0.312044  False   \n",
       "80                 False  3.035826e-01          0.296405     -0.141976  False   \n",
       "30                  True  7.535660e-09          0.422279     -0.595996   True   \n",
       "\n",
       "     smoking      time  DEATH_EVENT  \n",
       "263    False  1.377558        False  \n",
       "118    False -0.467977        False  \n",
       "197    False  0.719360        False  \n",
       "80     False -0.713188        False  \n",
       "30     False -1.332668         True  "
      ]
     },
     "execution_count": 10,
     "metadata": {},
     "output_type": "execute_result"
    }
   ],
   "source": [
    "test_df.head(5)"
   ]
  },
  {
   "cell_type": "code",
   "execution_count": 11,
   "metadata": {},
   "outputs": [
    {
     "data": {
      "text/plain": [
       "90"
      ]
     },
     "execution_count": 11,
     "metadata": {},
     "output_type": "execute_result"
    }
   ],
   "source": [
    "len(test_df)"
   ]
  },
  {
   "cell_type": "code",
   "execution_count": 12,
   "metadata": {},
   "outputs": [],
   "source": [
    "# shuffle data in train df \n",
    "train_df = shuffle(train_df)"
   ]
  },
  {
   "cell_type": "code",
   "execution_count": 13,
   "metadata": {},
   "outputs": [],
   "source": [
    "train_target_ser = train_df[target]\n",
    "train_features_df = train_df.drop(target, axis=1)"
   ]
  },
  {
   "cell_type": "code",
   "execution_count": 14,
   "metadata": {},
   "outputs": [
    {
     "data": {
      "text/html": [
       "<div>\n",
       "<style scoped>\n",
       "    .dataframe tbody tr th:only-of-type {\n",
       "        vertical-align: middle;\n",
       "    }\n",
       "\n",
       "    .dataframe tbody tr th {\n",
       "        vertical-align: top;\n",
       "    }\n",
       "\n",
       "    .dataframe thead th {\n",
       "        text-align: right;\n",
       "    }\n",
       "</style>\n",
       "<table border=\"1\" class=\"dataframe\">\n",
       "  <thead>\n",
       "    <tr style=\"text-align: right;\">\n",
       "      <th></th>\n",
       "      <th>age</th>\n",
       "      <th>anaemia</th>\n",
       "      <th>creatinine_phosphokinase</th>\n",
       "      <th>diabetes</th>\n",
       "      <th>ejection_fraction</th>\n",
       "      <th>high_blood_pressure</th>\n",
       "      <th>platelets</th>\n",
       "      <th>serum_creatinine</th>\n",
       "      <th>serum_sodium</th>\n",
       "      <th>sex</th>\n",
       "      <th>smoking</th>\n",
       "      <th>time</th>\n",
       "    </tr>\n",
       "  </thead>\n",
       "  <tbody>\n",
       "    <tr>\n",
       "      <th>110</th>\n",
       "      <td>2.035057</td>\n",
       "      <td>False</td>\n",
       "      <td>-0.467489</td>\n",
       "      <td>False</td>\n",
       "      <td>1.854958</td>\n",
       "      <td>False</td>\n",
       "      <td>4.367240e-01</td>\n",
       "      <td>-0.187726</td>\n",
       "      <td>-1.050016</td>\n",
       "      <td>True</td>\n",
       "      <td>True</td>\n",
       "      <td>-0.519600</td>\n",
       "    </tr>\n",
       "    <tr>\n",
       "      <th>292</th>\n",
       "      <td>-0.743913</td>\n",
       "      <td>False</td>\n",
       "      <td>-0.404515</td>\n",
       "      <td>True</td>\n",
       "      <td>-0.007077</td>\n",
       "      <td>False</td>\n",
       "      <td>1.215089e+00</td>\n",
       "      <td>-0.381379</td>\n",
       "      <td>0.766064</td>\n",
       "      <td>True</td>\n",
       "      <td>True</td>\n",
       "      <td>1.648581</td>\n",
       "    </tr>\n",
       "    <tr>\n",
       "      <th>199</th>\n",
       "      <td>-0.070223</td>\n",
       "      <td>False</td>\n",
       "      <td>0.649514</td>\n",
       "      <td>True</td>\n",
       "      <td>-0.260991</td>\n",
       "      <td>False</td>\n",
       "      <td>7.535660e-09</td>\n",
       "      <td>0.393231</td>\n",
       "      <td>-5.363206</td>\n",
       "      <td>True</td>\n",
       "      <td>True</td>\n",
       "      <td>0.719360</td>\n",
       "    </tr>\n",
       "    <tr>\n",
       "      <th>202</th>\n",
       "      <td>0.771889</td>\n",
       "      <td>False</td>\n",
       "      <td>-0.500524</td>\n",
       "      <td>False</td>\n",
       "      <td>1.854958</td>\n",
       "      <td>True</td>\n",
       "      <td>-4.440576e-01</td>\n",
       "      <td>-0.478205</td>\n",
       "      <td>0.312044</td>\n",
       "      <td>True</td>\n",
       "      <td>False</td>\n",
       "      <td>0.719360</td>\n",
       "    </tr>\n",
       "    <tr>\n",
       "      <th>204</th>\n",
       "      <td>1.445579</td>\n",
       "      <td>True</td>\n",
       "      <td>-0.534591</td>\n",
       "      <td>False</td>\n",
       "      <td>0.162199</td>\n",
       "      <td>False</td>\n",
       "      <td>1.397162e-01</td>\n",
       "      <td>-0.671857</td>\n",
       "      <td>0.085034</td>\n",
       "      <td>True</td>\n",
       "      <td>True</td>\n",
       "      <td>0.732266</td>\n",
       "    </tr>\n",
       "  </tbody>\n",
       "</table>\n",
       "</div>"
      ],
      "text/plain": [
       "          age  anaemia  creatinine_phosphokinase  diabetes  ejection_fraction  \\\n",
       "110  2.035057    False                 -0.467489     False           1.854958   \n",
       "292 -0.743913    False                 -0.404515      True          -0.007077   \n",
       "199 -0.070223    False                  0.649514      True          -0.260991   \n",
       "202  0.771889    False                 -0.500524     False           1.854958   \n",
       "204  1.445579     True                 -0.534591     False           0.162199   \n",
       "\n",
       "     high_blood_pressure     platelets  serum_creatinine  serum_sodium   sex  \\\n",
       "110                False  4.367240e-01         -0.187726     -1.050016  True   \n",
       "292                False  1.215089e+00         -0.381379      0.766064  True   \n",
       "199                False  7.535660e-09          0.393231     -5.363206  True   \n",
       "202                 True -4.440576e-01         -0.478205      0.312044  True   \n",
       "204                False  1.397162e-01         -0.671857      0.085034  True   \n",
       "\n",
       "     smoking      time  \n",
       "110     True -0.519600  \n",
       "292     True  1.648581  \n",
       "199     True  0.719360  \n",
       "202    False  0.719360  \n",
       "204     True  0.732266  "
      ]
     },
     "execution_count": 14,
     "metadata": {},
     "output_type": "execute_result"
    }
   ],
   "source": [
    "train_features_df.head(5)"
   ]
  },
  {
   "cell_type": "code",
   "execution_count": 15,
   "metadata": {},
   "outputs": [
    {
     "data": {
      "text/plain": [
       "110     True\n",
       "292    False\n",
       "199    False\n",
       "202    False\n",
       "204    False\n",
       "Name: DEATH_EVENT, dtype: bool"
      ]
     },
     "execution_count": 15,
     "metadata": {},
     "output_type": "execute_result"
    }
   ],
   "source": [
    "train_target_ser.head(5)"
   ]
  },
  {
   "cell_type": "code",
   "execution_count": 16,
   "metadata": {},
   "outputs": [],
   "source": [
    "test_target_ser = test_df[target]\n",
    "test_features_df = test_df.drop(target, axis=1)"
   ]
  },
  {
   "cell_type": "markdown",
   "metadata": {},
   "source": [
    "### Model Development and Evaluation"
   ]
  },
  {
   "cell_type": "markdown",
   "metadata": {},
   "source": [
    "### - Base Model - Logistic Regression"
   ]
  },
  {
   "cell_type": "code",
   "execution_count": 17,
   "metadata": {},
   "outputs": [
    {
     "data": {
      "text/plain": [
       "LogisticRegression()"
      ]
     },
     "execution_count": 17,
     "metadata": {},
     "output_type": "execute_result"
    }
   ],
   "source": [
    "# default parameters\n",
    "logreg = LogisticRegression()\n",
    "\n",
    "logreg.fit(train_features_df, train_target_ser)"
   ]
  },
  {
   "cell_type": "code",
   "execution_count": 18,
   "metadata": {},
   "outputs": [],
   "source": [
    "y_train_pred = logreg.predict(train_features_df)"
   ]
  },
  {
   "cell_type": "code",
   "execution_count": 19,
   "metadata": {},
   "outputs": [],
   "source": [
    "y_train_pred_df = pd.DataFrame(y_train_pred)"
   ]
  },
  {
   "cell_type": "code",
   "execution_count": 20,
   "metadata": {},
   "outputs": [
    {
     "name": "stdout",
     "output_type": "stream",
     "text": [
      "0.8373205741626795\n"
     ]
    }
   ],
   "source": [
    "# Use score method to get accuracy of model\n",
    "score = logreg.score(train_features_df, train_target_ser)\n",
    "print(score)"
   ]
  },
  {
   "cell_type": "code",
   "execution_count": 21,
   "metadata": {},
   "outputs": [],
   "source": [
    "y_test_pred = logreg.predict(test_features_df)"
   ]
  },
  {
   "cell_type": "code",
   "execution_count": 22,
   "metadata": {},
   "outputs": [],
   "source": [
    "y_test_pred_df = pd.DataFrame(y_test_pred)"
   ]
  },
  {
   "cell_type": "code",
   "execution_count": 23,
   "metadata": {},
   "outputs": [
    {
     "name": "stdout",
     "output_type": "stream",
     "text": [
      "0.8111\n"
     ]
    }
   ],
   "source": [
    "# Use score method to get accuracy of model\n",
    "score = logreg.score(test_features_df, test_target_ser)\n",
    "print(round(score,4))"
   ]
  },
  {
   "cell_type": "code",
   "execution_count": 24,
   "metadata": {},
   "outputs": [
    {
     "name": "stdout",
     "output_type": "stream",
     "text": [
      "[[57  5]\n",
      " [12 16]]\n"
     ]
    }
   ],
   "source": [
    "cm = confusion_matrix(test_target_ser, y_test_pred_df)\n",
    "print(cm)"
   ]
  },
  {
   "cell_type": "code",
   "execution_count": 25,
   "metadata": {},
   "outputs": [
    {
     "data": {
      "image/png": "[encoded data removed]",
      "text/plain": [
       "<Figure size 360x360 with 2 Axes>"
      ]
     },
     "metadata": {
      "needs_background": "light"
     },
     "output_type": "display_data"
    }
   ],
   "source": [
    "plt.figure(figsize=(5,5))\n",
    "sns.heatmap(cm, annot=True, fmt=\".3f\", linewidths=.5, square = True, cmap = 'Reds_r');\n",
    "plt.ylabel('Actual label');\n",
    "plt.xlabel('Predicted label');\n",
    "all_sample_title = 'Accuracy Score: {0}'.format(score)\n",
    "plt.title(all_sample_title, size = 15);"
   ]
  },
  {
   "cell_type": "code",
   "execution_count": 26,
   "metadata": {},
   "outputs": [
    {
     "data": {
      "text/plain": [
       "[<matplotlib.lines.Line2D at 0x7fe3372ae160>]"
      ]
     },
     "execution_count": 26,
     "metadata": {},
     "output_type": "execute_result"
    },
    {
     "data": {
      "image/png": "[encoded data removed]",
      "text/plain": [
       "<Figure size 432x288 with 1 Axes>"
      ]
     },
     "metadata": {
      "needs_background": "light"
     },
     "output_type": "display_data"
    }
   ],
   "source": [
    "lw=2\n",
    "rfc_disp = plot_roc_curve(logreg, test_features_df,test_target_ser, color='darkorange')\n",
    "plt.plot([0, 1], [0, 1], color='navy', lw=lw, linestyle='--')"
   ]
  },
  {
   "cell_type": "code",
   "execution_count": 27,
   "metadata": {},
   "outputs": [
    {
     "data": {
      "text/plain": [
       "array([[ 0.59961902,  0.25116874,  0.17150286,  0.45378632, -0.65623627,\n",
       "        -0.06662303, -0.15678606,  0.65314167, -0.41272387, -0.26937275,\n",
       "        -0.0383636 , -1.45725277]])"
      ]
     },
     "execution_count": 27,
     "metadata": {},
     "output_type": "execute_result"
    }
   ],
   "source": [
    "logreg.coef_"
   ]
  },
  {
   "cell_type": "code",
   "execution_count": 28,
   "metadata": {},
   "outputs": [],
   "source": [
    "def visualize_coefficients(classifier, feature_names):\n",
    "    # get coefficients with large absolute values \n",
    "    coef = classifier.coef_.ravel()\n",
    "    # plot them\n",
    "    plt.figure(figsize=(15, 5))\n",
    "    \n",
    "    feature_names = np.array(feature_names)\n",
    "    plt.bar(feature_names, coef)\n",
    "    plt.xticks(rotation=90)\n",
    "    plt.ylabel('parameter weitght values')\n",
    "    plt.show()\n",
    "    "
   ]
  },
  {
   "cell_type": "code",
   "execution_count": 29,
   "metadata": {},
   "outputs": [
    {
     "data": {
      "image/png": "[encoded data removed]",
      "text/plain": [
       "<Figure size 1080x360 with 1 Axes>"
      ]
     },
     "metadata": {
      "needs_background": "light"
     },
     "output_type": "display_data"
    }
   ],
   "source": [
    "visualize_coefficients(logreg, all_features)"
   ]
  },
  {
   "cell_type": "markdown",
   "metadata": {},
   "source": [
    "### Logistic Regression and Random Forest Classifier - Hyperparameter Tuning "
   ]
  },
  {
   "cell_type": "code",
   "execution_count": 30,
   "metadata": {},
   "outputs": [],
   "source": [
    "# Create a pipeline\n",
    "\n",
    "pipe = Pipeline([('classifier',LogisticRegression())])\n",
    "\n",
    "\n",
    "# Create space of candidate learning algorithms and their hyperparameters\n",
    "search_space = [{'classifier': [LogisticRegression()],\n",
    "                 'classifier__penalty': ['l2'],\n",
    "                 'classifier__C': [0.01, 0.8, 1.0, 2.0, 5.0, 10.0, 25.0],\n",
    "                },\n",
    "               \n",
    "                {'classifier': [RandomForestClassifier(random_state=2)],\n",
    "                 'classifier__n_estimators': list(range(10, 150, 10)),\n",
    "                 'classifier__max_depth': [4,8,12,16,20,30,32, None],\n",
    "                 'classifier__max_features': list(range(1,12,1)),\n",
    "                 'classifier__min_samples_split':[2,4,6,8]}\n",
    "                 ]"
   ]
  },
  {
   "cell_type": "code",
   "execution_count": 31,
   "metadata": {},
   "outputs": [],
   "source": [
    "# Create grid search \n",
    "gridsearch = GridSearchCV(pipe, search_space, cv=2, verbose=1, scoring='accuracy')"
   ]
  },
  {
   "cell_type": "code",
   "execution_count": 32,
   "metadata": {},
   "outputs": [
    {
     "name": "stdout",
     "output_type": "stream",
     "text": [
      "Fitting 2 folds for each of 4935 candidates, totalling 9870 fits\n"
     ]
    },
    {
     "data": {
      "text/plain": [
       "GridSearchCV(cv=2,\n",
       "             estimator=Pipeline(steps=[('classifier', LogisticRegression())]),\n",
       "             param_grid=[{'classifier': [LogisticRegression()],\n",
       "                          'classifier__C': [0.01, 0.8, 1.0, 2.0, 5.0, 10.0,\n",
       "                                            25.0],\n",
       "                          'classifier__penalty': ['l2']},\n",
       "                         {'classifier': [RandomForestClassifier(max_depth=4,\n",
       "                                                                max_features=4,\n",
       "                                                                random_state=2)],\n",
       "                          'classifier__max_depth': [4, 8, 12, 16, 20, 30, 32,\n",
       "                                                    None],\n",
       "                          'classifier__max_features': [1, 2, 3, 4, 5, 6, 7, 8,\n",
       "                                                       9, 10, 11],\n",
       "                          'classifier__min_samples_split': [2, 4, 6, 8],\n",
       "                          'classifier__n_estimators': [10, 20, 30, 40, 50, 60,\n",
       "                                                       70, 80, 90, 100, 110,\n",
       "                                                       120, 130, 140]}],\n",
       "             scoring='accuracy', verbose=1)"
      ]
     },
     "execution_count": 32,
     "metadata": {},
     "output_type": "execute_result"
    }
   ],
   "source": [
    "gridsearch.fit(train_features_df, train_target_ser)"
   ]
  },
  {
   "cell_type": "code",
   "execution_count": 33,
   "metadata": {},
   "outputs": [
    {
     "data": {
      "text/plain": [
       "RandomForestClassifier(max_depth=4, max_features=4, random_state=2)"
      ]
     },
     "execution_count": 33,
     "metadata": {},
     "output_type": "execute_result"
    }
   ],
   "source": [
    "# parameters of best estimator\n",
    "gridsearch.best_estimator_.get_params()['classifier']"
   ]
  },
  {
   "cell_type": "code",
   "execution_count": 34,
   "metadata": {},
   "outputs": [
    {
     "data": {
      "text/plain": [
       "0.8469322344322344"
      ]
     },
     "execution_count": 34,
     "metadata": {},
     "output_type": "execute_result"
    }
   ],
   "source": [
    "# best accuracy score during training \n",
    "gridsearch.best_score_"
   ]
  },
  {
   "cell_type": "code",
   "execution_count": 35,
   "metadata": {},
   "outputs": [],
   "source": [
    "y_train_pred = gridsearch.best_estimator_.predict(train_features_df)"
   ]
  },
  {
   "cell_type": "code",
   "execution_count": 36,
   "metadata": {},
   "outputs": [],
   "source": [
    "y_test_pred = gridsearch.best_estimator_.predict(test_features_df)"
   ]
  },
  {
   "cell_type": "code",
   "execution_count": 37,
   "metadata": {},
   "outputs": [
    {
     "name": "stdout",
     "output_type": "stream",
     "text": [
      "Test Accuracy Score : 0.8777777777777778\n",
      "Test Precision Score : 0.9047619047619048\n",
      "Test Recall Score : 0.6785714285714286\n",
      "Test F1 Score : 0.7755102040816326\n"
     ]
    }
   ],
   "source": [
    "# New Model Evaluation metrics \n",
    "print('Test Accuracy Score : ' + str(accuracy_score(test_target_ser,y_test_pred)))\n",
    "print('Test Precision Score : ' + str(precision_score(test_target_ser,y_test_pred)))\n",
    "print('Test Recall Score : ' + str(recall_score(test_target_ser,y_test_pred)))\n",
    "print('Test F1 Score : ' + str(f1_score(test_target_ser,y_test_pred)))"
   ]
  },
  {
   "cell_type": "code",
   "execution_count": 38,
   "metadata": {},
   "outputs": [],
   "source": [
    "cm = confusion_matrix(test_target_ser, y_test_pred)"
   ]
  },
  {
   "cell_type": "code",
   "execution_count": 39,
   "metadata": {},
   "outputs": [
    {
     "data": {
      "image/png": "[encoded data removed]",
      "text/plain": [
       "<Figure size 360x360 with 2 Axes>"
      ]
     },
     "metadata": {
      "needs_background": "light"
     },
     "output_type": "display_data"
    }
   ],
   "source": [
    "plt.figure(figsize=(5,5))\n",
    "sns.heatmap(cm, annot=True, fmt=\".3f\", linewidths=.5, square = True, cmap = 'Reds_r');\n",
    "plt.ylabel('Actual label');\n",
    "plt.xlabel('Predicted label');\n",
    "all_sample_title = 'Accuracy Score: {:10.4f}'.format(accuracy_score(test_target_ser,y_test_pred))\n",
    "plt.title(all_sample_title, size = 15);"
   ]
  },
  {
   "cell_type": "code",
   "execution_count": 40,
   "metadata": {},
   "outputs": [
    {
     "data": {
      "text/plain": [
       "[<matplotlib.lines.Line2D at 0x7fe337241a00>]"
      ]
     },
     "execution_count": 40,
     "metadata": {},
     "output_type": "execute_result"
    },
    {
     "data": {
      "image/png": "[encoded data removed]",
      "text/plain": [
       "<Figure size 432x288 with 1 Axes>"
      ]
     },
     "metadata": {
      "needs_background": "light"
     },
     "output_type": "display_data"
    }
   ],
   "source": [
    "rfc_disp = plot_roc_curve(gridsearch.best_estimator_, test_features_df,test_target_ser, color='darkorange')\n",
    "plt.plot([0, 1], [0, 1], color='navy', lw=lw, linestyle='--')"
   ]
  }
 ],
 "metadata": {
  "kernelspec": {
   "display_name": "datascience_env",
   "language": "python",
   "name": "datascience_env"
  },
  "language_info": {
   "codemirror_mode": {
    "name": "ipython",
    "version": 3
   },
   "file_extension": ".py",
   "mimetype": "text/x-python",
   "name": "python",
   "nbconvert_exporter": "python",
   "pygments_lexer": "ipython3",
   "version": "3.8.3"
  }
 },
 "nbformat": 4,
 "nbformat_minor": 4
}
